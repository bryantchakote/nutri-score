{
 "cells": [
  {
   "cell_type": "markdown",
   "id": "2c358c38",
   "metadata": {},
   "source": [
    "*Please, refer to `project.pdf` to know more about the context and the instructions.*"
   ]
  },
  {
   "cell_type": "code",
   "execution_count": 99,
   "id": "a0ae49f6",
   "metadata": {},
   "outputs": [],
   "source": [
    "import numpy as np\n",
    "import pandas as pd\n",
    "import matplotlib.pyplot as plt\n",
    "import seaborn as sns\n",
    "plt.style.use(\"ggplot\")\n",
    "sns.set_style(\"darkgrid\")"
   ]
  },
  {
   "cell_type": "code",
   "execution_count": 100,
   "id": "7063bafb",
   "metadata": {},
   "outputs": [],
   "source": [
    "# Install the Open Food Facts Python package\n",
    "!pip install openfoodfacts -q"
   ]
  },
  {
   "cell_type": "code",
   "execution_count": 101,
   "id": "1370a1a8",
   "metadata": {},
   "outputs": [],
   "source": [
    "# Setup the API for data extraction\n",
    "from openfoodfacts import API, APIVersion, Country, Environment, Flavor\n",
    "\n",
    "api = API(\n",
    "    username=None,\n",
    "    password=None,\n",
    "    country=Country.world,\n",
    "    flavor=Flavor.off,\n",
    "    version=APIVersion.v2,\n",
    "    environment=Environment.org,\n",
    ")"
   ]
  },
  {
   "cell_type": "code",
   "execution_count": 102,
   "id": "ce68f1ed",
   "metadata": {},
   "outputs": [
    {
     "name": "stdout",
     "output_type": "stream",
     "text": [
      "Extraction started...\n",
      "Page 1/10 -- Done. Appending results\n",
      "Page 2/10 -- Done. Appending results\n",
      "Page 3/10 -- Done. Appending results\n",
      "Page 4/10 -- Done. Appending results\n",
      "Page 5/10 -- Done. Appending results\n",
      "Page 6/10 -- Done. Appending results\n",
      "Page 7/10 -- Done. Appending results\n",
      "Page 8/10 -- Done. Appending results\n",
      "Page 9/10 -- Done. Appending results\n",
      "Page 10/10 -- Done. Appending results\n",
      "Extraction done successfully!\n"
     ]
    }
   ],
   "source": [
    "# Food and drinks data from the API (10*2000 = 2000 products retrieved)\n",
    "products = []\n",
    "print(\"Extraction started...\")\n",
    "for i in range(10):\n",
    "    print(f\"Page {i+1}/10\", end=\"\")\n",
    "    results = api.product.text_search(query=\"\", page=i+1, page_size=200)\n",
    "    print(\" -- Done. Appending results\")\n",
    "    products += results[\"products\"]\n",
    "    if i == 9:\n",
    "        print(\"Extraction done successfully!\")"
   ]
  },
  {
   "cell_type": "code",
   "execution_count": 105,
   "id": "9c3e6136",
   "metadata": {},
   "outputs": [],
   "source": [
    "# Columns of interest\n",
    "columns = [\n",
    "    # Product identification\n",
    "    \"product_name\",\n",
    "\n",
    "    # Nutriscore data\n",
    "    \"energy_points\",\n",
    "    \"saturated_fat_points\",\n",
    "    \"sugars_points\",\n",
    "    \"sodium_points\",\n",
    "    \"proteins_points\",\n",
    "    \"fiber_points\",\n",
    "    \"fruits_vegetables_nuts_points\",\n",
    "    \"nutriscore_score\", \"nutriscore_grade\",\n",
    "    \n",
    "    # Nutrient levels info (tricolor method)\n",
    "    \"fat_level\", \"salt_level\", \"saturated_fat_level\", \"sugars_level\"\n",
    "]"
   ]
  },
  {
   "cell_type": "code",
   "execution_count": 106,
   "id": "5af8a8f8",
   "metadata": {},
   "outputs": [],
   "source": [
    "# Nustriscore data\n",
    "ns = []\n",
    "\n",
    "for i, p in enumerate(products):\n",
    "    # Extract the product category (the first) to drop drinks\n",
    "    cat = p.get(\"categories_hierarchy\")\n",
    "    if cat is not None:\n",
    "        if len(cat) > 0 and (\"beverage\" in cat[0] or \"boissons\" in cat[0]):\n",
    "            continue # pass, keep food only\n",
    "    \n",
    "    # Additional security: drop if the quantity contains \"l\" (liters)\n",
    "    quant = p.get(\"quantity\")\n",
    "    if quant is not None:\n",
    "        if \"l\" in quant:\n",
    "            continue\n",
    "    \n",
    "    # Product identification\n",
    "    id_info = [p.get(\"product_name\")]\n",
    "    \n",
    "    # Nutriscore data\n",
    "    ns_data = p.get(\"nutriscore_data\")\n",
    "    if ns_data is not None:\n",
    "        ns_info = [\n",
    "            ns_data.get(\"energy_points\"),\n",
    "            ns_data.get(\"saturated_fat_points\"),\n",
    "            ns_data.get(\"sugars_points\"),\n",
    "            ns_data.get(\"sodium_points\"),\n",
    "            ns_data.get(\"proteins_points\"),\n",
    "            ns_data.get(\"fiber_points\"),\n",
    "            ns_data.get(\"fruits_vegetables_nuts_colza_walnut_olive_oils_points\"),\n",
    "        ]\n",
    "    else:\n",
    "        continue\n",
    "    ns_info += [p.get(\"nutriscore_score\"), p.get(\"nutriscore_grade\")]\n",
    "\n",
    "    # Nutrient levels info (tricolor method)\n",
    "    tri_data = p.get(\"nutrient_levels\")\n",
    "    if tri_data is not None:\n",
    "        tri_info = [tri_data.get(\"fat\"), tri_data.get(\"salt\"), tri_data.get(\"saturated-fat\"), tri_data.get(\"sugars\")]\n",
    "    else:\n",
    "        continue\n",
    "    \n",
    "    # Complete product information\n",
    "    product = id_info + ns_info + tri_info\n",
    "    \n",
    "    # Append new product to existing ones\n",
    "    ns.append(product)\n",
    "\n",
    "# Final dataset\n",
    "ns = pd.DataFrame(ns, columns=columns)"
   ]
  },
  {
   "cell_type": "code",
   "execution_count": 107,
   "id": "98cf65a4",
   "metadata": {},
   "outputs": [
    {
     "data": {
      "text/plain": [
       "924"
      ]
     },
     "execution_count": 107,
     "metadata": {},
     "output_type": "execute_result"
    }
   ],
   "source": [
    "# Length of output at this step\n",
    "len(ns)"
   ]
  },
  {
   "cell_type": "code",
   "execution_count": 108,
   "id": "390b2464",
   "metadata": {},
   "outputs": [
    {
     "name": "stdout",
     "output_type": "stream",
     "text": [
      "product_name                     70\n",
      "energy_points                    13\n",
      "saturated_fat_points             32\n",
      "sugars_points                    13\n",
      "sodium_points                    13\n",
      "proteins_points                  13\n",
      "fiber_points                     13\n",
      "fruits_vegetables_nuts_points    13\n",
      "nutriscore_score                 13\n",
      "nutriscore_grade                  0\n",
      "fat_level                         6\n",
      "salt_level                        6\n",
      "saturated_fat_level               6\n",
      "sugars_level                      7\n",
      "dtype: int64\n"
     ]
    }
   ],
   "source": [
    "# Missing values\n",
    "print(ns.isnull().sum())\n",
    "ns.dropna(inplace=True)"
   ]
  },
  {
   "cell_type": "code",
   "execution_count": 109,
   "id": "5f41d992",
   "metadata": {},
   "outputs": [
    {
     "name": "stdout",
     "output_type": "stream",
     "text": [
      "33\n"
     ]
    }
   ],
   "source": [
    "# Duplicates\n",
    "print(ns.duplicated().sum())\n",
    "ns.drop_duplicates(inplace=True)"
   ]
  },
  {
   "cell_type": "code",
   "execution_count": 110,
   "id": "bacfd5d1",
   "metadata": {
    "scrolled": true
   },
   "outputs": [
    {
     "name": "stdout",
     "output_type": "stream",
     "text": [
      "<class 'pandas.core.frame.DataFrame'>\n",
      "Int64Index: 789 entries, 0 to 923\n",
      "Data columns (total 14 columns):\n",
      " #   Column                         Non-Null Count  Dtype  \n",
      "---  ------                         --------------  -----  \n",
      " 0   product_name                   789 non-null    object \n",
      " 1   energy_points                  789 non-null    float64\n",
      " 2   saturated_fat_points           789 non-null    float64\n",
      " 3   sugars_points                  789 non-null    float64\n",
      " 4   sodium_points                  789 non-null    float64\n",
      " 5   proteins_points                789 non-null    float64\n",
      " 6   fiber_points                   789 non-null    float64\n",
      " 7   fruits_vegetables_nuts_points  789 non-null    float64\n",
      " 8   nutriscore_score               789 non-null    float64\n",
      " 9   nutriscore_grade               789 non-null    object \n",
      " 10  fat_level                      789 non-null    object \n",
      " 11  salt_level                     789 non-null    object \n",
      " 12  saturated_fat_level            789 non-null    object \n",
      " 13  sugars_level                   789 non-null    object \n",
      "dtypes: float64(8), object(6)\n",
      "memory usage: 92.5+ KB\n"
     ]
    }
   ],
   "source": [
    "# Variables type\n",
    "ns.info()"
   ]
  },
  {
   "cell_type": "code",
   "execution_count": 137,
   "id": "9c25668f",
   "metadata": {},
   "outputs": [],
   "source": [
    "# Change some types to int\n",
    "## Nutrient points\n",
    "for col in ns.columns:\n",
    "    if col.endswith(\"points\"):\n",
    "        ns[col] = ns[col].astype(int)\n",
    "\n",
    "## Nutriscore calculated value\n",
    "ns[\"nutriscore_score\"] = ns[\"nutriscore_score\"].astype(int)"
   ]
  },
  {
   "cell_type": "code",
   "execution_count": 138,
   "id": "7825078b",
   "metadata": {},
   "outputs": [
    {
     "data": {
      "text/html": [
       "<div>\n",
       "<style scoped>\n",
       "    .dataframe tbody tr th:only-of-type {\n",
       "        vertical-align: middle;\n",
       "    }\n",
       "\n",
       "    .dataframe tbody tr th {\n",
       "        vertical-align: top;\n",
       "    }\n",
       "\n",
       "    .dataframe thead th {\n",
       "        text-align: right;\n",
       "    }\n",
       "</style>\n",
       "<table border=\"1\" class=\"dataframe\">\n",
       "  <thead>\n",
       "    <tr style=\"text-align: right;\">\n",
       "      <th></th>\n",
       "      <th>product_name</th>\n",
       "      <th>energy_points</th>\n",
       "      <th>saturated_fat_points</th>\n",
       "      <th>sugars_points</th>\n",
       "      <th>sodium_points</th>\n",
       "      <th>proteins_points</th>\n",
       "      <th>fiber_points</th>\n",
       "      <th>fruits_vegetables_nuts_points</th>\n",
       "      <th>nutriscore_score</th>\n",
       "      <th>nutriscore_grade</th>\n",
       "      <th>fat_level</th>\n",
       "      <th>salt_level</th>\n",
       "      <th>saturated_fat_level</th>\n",
       "      <th>sugars_level</th>\n",
       "    </tr>\n",
       "  </thead>\n",
       "  <tbody>\n",
       "    <tr>\n",
       "      <th>0</th>\n",
       "      <td>Nutella</td>\n",
       "      <td>6</td>\n",
       "      <td>10</td>\n",
       "      <td>10</td>\n",
       "      <td>0</td>\n",
       "      <td>3</td>\n",
       "      <td>0</td>\n",
       "      <td>0</td>\n",
       "      <td>26</td>\n",
       "      <td>e</td>\n",
       "      <td>high</td>\n",
       "      <td>low</td>\n",
       "      <td>high</td>\n",
       "      <td>high</td>\n",
       "    </tr>\n",
       "    <tr>\n",
       "      <th>1</th>\n",
       "      <td>Prince Chocolat biscuits au blé complet</td>\n",
       "      <td>5</td>\n",
       "      <td>5</td>\n",
       "      <td>7</td>\n",
       "      <td>2</td>\n",
       "      <td>3</td>\n",
       "      <td>4</td>\n",
       "      <td>0</td>\n",
       "      <td>15</td>\n",
       "      <td>d</td>\n",
       "      <td>moderate</td>\n",
       "      <td>moderate</td>\n",
       "      <td>high</td>\n",
       "      <td>high</td>\n",
       "    </tr>\n",
       "    <tr>\n",
       "      <th>3</th>\n",
       "      <td>Gerblé - Sesame Cookie, 230g (8.2oz)</td>\n",
       "      <td>5</td>\n",
       "      <td>1</td>\n",
       "      <td>3</td>\n",
       "      <td>1</td>\n",
       "      <td>5</td>\n",
       "      <td>4</td>\n",
       "      <td>0</td>\n",
       "      <td>1</td>\n",
       "      <td>b</td>\n",
       "      <td>moderate</td>\n",
       "      <td>moderate</td>\n",
       "      <td>moderate</td>\n",
       "      <td>high</td>\n",
       "    </tr>\n",
       "    <tr>\n",
       "      <th>4</th>\n",
       "      <td>Ferrero- Nutella Biscuits Resealable Bag, 304g...</td>\n",
       "      <td>6</td>\n",
       "      <td>10</td>\n",
       "      <td>7</td>\n",
       "      <td>2</td>\n",
       "      <td>4</td>\n",
       "      <td>0</td>\n",
       "      <td>0</td>\n",
       "      <td>25</td>\n",
       "      <td>e</td>\n",
       "      <td>high</td>\n",
       "      <td>moderate</td>\n",
       "      <td>high</td>\n",
       "      <td>high</td>\n",
       "    </tr>\n",
       "    <tr>\n",
       "      <th>5</th>\n",
       "      <td>Nocciolata Pâte À Tartiner Au Cacao Et Noisettes</td>\n",
       "      <td>6</td>\n",
       "      <td>5</td>\n",
       "      <td>10</td>\n",
       "      <td>0</td>\n",
       "      <td>5</td>\n",
       "      <td>3</td>\n",
       "      <td>0</td>\n",
       "      <td>18</td>\n",
       "      <td>d</td>\n",
       "      <td>high</td>\n",
       "      <td>low</td>\n",
       "      <td>high</td>\n",
       "      <td>high</td>\n",
       "    </tr>\n",
       "  </tbody>\n",
       "</table>\n",
       "</div>"
      ],
      "text/plain": [
       "                                        product_name  energy_points  \\\n",
       "0                                            Nutella              6   \n",
       "1            Prince Chocolat biscuits au blé complet              5   \n",
       "3               Gerblé - Sesame Cookie, 230g (8.2oz)              5   \n",
       "4  Ferrero- Nutella Biscuits Resealable Bag, 304g...              6   \n",
       "5   Nocciolata Pâte À Tartiner Au Cacao Et Noisettes              6   \n",
       "\n",
       "   saturated_fat_points  sugars_points  sodium_points  proteins_points  \\\n",
       "0                    10             10              0                3   \n",
       "1                     5              7              2                3   \n",
       "3                     1              3              1                5   \n",
       "4                    10              7              2                4   \n",
       "5                     5             10              0                5   \n",
       "\n",
       "   fiber_points  fruits_vegetables_nuts_points  nutriscore_score  \\\n",
       "0             0                              0                26   \n",
       "1             4                              0                15   \n",
       "3             4                              0                 1   \n",
       "4             0                              0                25   \n",
       "5             3                              0                18   \n",
       "\n",
       "  nutriscore_grade fat_level salt_level saturated_fat_level sugars_level  \n",
       "0                e      high        low                high         high  \n",
       "1                d  moderate   moderate                high         high  \n",
       "3                b  moderate   moderate            moderate         high  \n",
       "4                e      high   moderate                high         high  \n",
       "5                d      high        low                high         high  "
      ]
     },
     "execution_count": 138,
     "metadata": {},
     "output_type": "execute_result"
    }
   ],
   "source": [
    "# Preview\n",
    "ns.head()"
   ]
  },
  {
   "cell_type": "code",
   "execution_count": 113,
   "id": "4361d43c",
   "metadata": {
    "scrolled": true
   },
   "outputs": [
    {
     "data": {
      "image/png": "[encoded data removed]",
      "text/plain": [
       "<Figure size 640x480 with 1 Axes>"
      ]
     },
     "metadata": {},
     "output_type": "display_data"
    }
   ],
   "source": [
    "# Nutriscore distribution\n",
    "x = ns[\"nutriscore_grade\"].value_counts().sort_index()\n",
    "plt.bar(x.index, x.values)\n",
    "plt.show()"
   ]
  },
  {
   "cell_type": "markdown",
   "id": "f3aac5de",
   "metadata": {},
   "source": [
    "## Extreme profiles ($d_1, d_2, ..., d_6$)"
   ]
  },
  {
   "cell_type": "markdown",
   "id": "1212ba60",
   "metadata": {},
   "source": [
    "![](nutri-score-limits.png)\n",
    "\n",
    "<i>Source: https://get.apicbase.com/fr/nutriscore-systeme-etiquetage-valeur-nutritionnelle</i>"
   ]
  },
  {
   "cell_type": "code",
   "execution_count": 114,
   "id": "e96b6cbb",
   "metadata": {},
   "outputs": [],
   "source": [
    "limits = [(18, 19), (10, 11), (2, 3), (-1, 0)] # limits between grades\n",
    "cols = [\"energy_points\", \"saturated_fat_points\", \"sugars_points\", \"sodium_points\",\n",
    "        \"proteins_points\", \"fiber_points\", \"fruits_vegetables_nuts_points\"]"
   ]
  },
  {
   "cell_type": "code",
   "execution_count": 143,
   "id": "ad05920b",
   "metadata": {},
   "outputs": [],
   "source": [
    "# The worst and best possible food are defined as follows\n",
    "worst = pd.Series(data=[10, 10, 10, 10, 0, 0, 0], index=cols)\n",
    "best = pd.Series(data=[0, 0, 0, 0, 5, 5, 5], index=cols)"
   ]
  },
  {
   "cell_type": "markdown",
   "id": "c5ed245b",
   "metadata": {},
   "source": [
    "*To find the charecteristics of the ideal intermediary food between two classes (middle profiles), we've decided to take, for each nutrient, the median of the points of products located exactly on either side of the scores limits. Of course, this method is debatable.*\n",
    "\n",
    "e.g. The energy value of the extreme profile between A and B will be the average of energy points carried by food products with scores -1 and 0."
   ]
  },
  {
   "cell_type": "code",
   "execution_count": 146,
   "id": "9199de56",
   "metadata": {},
   "outputs": [],
   "source": [
    "middle = [ns.loc[ns[\"nutriscore_score\"].isin(limit), cols].median()\n",
    "          for limit in limits]"
   ]
  },
  {
   "cell_type": "code",
   "execution_count": 147,
   "id": "79a27cec",
   "metadata": {},
   "outputs": [
    {
     "data": {
      "text/plain": [
       "energy_points                    1.0\n",
       "saturated_fat_points             1.0\n",
       "sugars_points                    1.0\n",
       "sodium_points                    1.0\n",
       "proteins_points                  4.0\n",
       "fiber_points                     1.0\n",
       "fruits_vegetables_nuts_points    0.0\n",
       "dtype: float64"
      ]
     },
     "execution_count": 147,
     "metadata": {},
     "output_type": "execute_result"
    }
   ],
   "source": [
    "# Middle food between nutriscores A and B\n",
    "middle[3]"
   ]
  },
  {
   "cell_type": "code",
   "execution_count": 148,
   "id": "5189d690",
   "metadata": {
    "scrolled": true
   },
   "outputs": [
    {
     "data": {
      "text/html": [
       "<div>\n",
       "<style scoped>\n",
       "    .dataframe tbody tr th:only-of-type {\n",
       "        vertical-align: middle;\n",
       "    }\n",
       "\n",
       "    .dataframe tbody tr th {\n",
       "        vertical-align: top;\n",
       "    }\n",
       "\n",
       "    .dataframe thead th {\n",
       "        text-align: right;\n",
       "    }\n",
       "</style>\n",
       "<table border=\"1\" class=\"dataframe\">\n",
       "  <thead>\n",
       "    <tr style=\"text-align: right;\">\n",
       "      <th></th>\n",
       "      <th>energy_points</th>\n",
       "      <th>saturated_fat_points</th>\n",
       "      <th>sugars_points</th>\n",
       "      <th>sodium_points</th>\n",
       "      <th>proteins_points</th>\n",
       "      <th>fiber_points</th>\n",
       "      <th>fruits_vegetables_nuts_points</th>\n",
       "    </tr>\n",
       "  </thead>\n",
       "  <tbody>\n",
       "    <tr>\n",
       "      <th>b1</th>\n",
       "      <td>10.0</td>\n",
       "      <td>10.0</td>\n",
       "      <td>10.0</td>\n",
       "      <td>10.0</td>\n",
       "      <td>0.0</td>\n",
       "      <td>0.0</td>\n",
       "      <td>0.0</td>\n",
       "    </tr>\n",
       "    <tr>\n",
       "      <th>b2</th>\n",
       "      <td>6.0</td>\n",
       "      <td>6.0</td>\n",
       "      <td>6.0</td>\n",
       "      <td>1.0</td>\n",
       "      <td>4.0</td>\n",
       "      <td>2.0</td>\n",
       "      <td>0.0</td>\n",
       "    </tr>\n",
       "    <tr>\n",
       "      <th>b3</th>\n",
       "      <td>5.0</td>\n",
       "      <td>3.0</td>\n",
       "      <td>3.0</td>\n",
       "      <td>3.0</td>\n",
       "      <td>4.0</td>\n",
       "      <td>4.5</td>\n",
       "      <td>0.0</td>\n",
       "    </tr>\n",
       "    <tr>\n",
       "      <th>b4</th>\n",
       "      <td>1.0</td>\n",
       "      <td>1.0</td>\n",
       "      <td>0.0</td>\n",
       "      <td>3.0</td>\n",
       "      <td>4.0</td>\n",
       "      <td>0.0</td>\n",
       "      <td>0.0</td>\n",
       "    </tr>\n",
       "    <tr>\n",
       "      <th>b5</th>\n",
       "      <td>1.0</td>\n",
       "      <td>1.0</td>\n",
       "      <td>1.0</td>\n",
       "      <td>1.0</td>\n",
       "      <td>4.0</td>\n",
       "      <td>1.0</td>\n",
       "      <td>0.0</td>\n",
       "    </tr>\n",
       "    <tr>\n",
       "      <th>b6</th>\n",
       "      <td>0.0</td>\n",
       "      <td>0.0</td>\n",
       "      <td>0.0</td>\n",
       "      <td>0.0</td>\n",
       "      <td>5.0</td>\n",
       "      <td>5.0</td>\n",
       "      <td>5.0</td>\n",
       "    </tr>\n",
       "  </tbody>\n",
       "</table>\n",
       "</div>"
      ],
      "text/plain": [
       "    energy_points  saturated_fat_points  sugars_points  sodium_points  \\\n",
       "b1           10.0                  10.0           10.0           10.0   \n",
       "b2            6.0                   6.0            6.0            1.0   \n",
       "b3            5.0                   3.0            3.0            3.0   \n",
       "b4            1.0                   1.0            0.0            3.0   \n",
       "b5            1.0                   1.0            1.0            1.0   \n",
       "b6            0.0                   0.0            0.0            0.0   \n",
       "\n",
       "    proteins_points  fiber_points  fruits_vegetables_nuts_points  \n",
       "b1              0.0           0.0                            0.0  \n",
       "b2              4.0           2.0                            0.0  \n",
       "b3              4.0           4.5                            0.0  \n",
       "b4              4.0           0.0                            0.0  \n",
       "b5              4.0           1.0                            0.0  \n",
       "b6              5.0           5.0                            5.0  "
      ]
     },
     "execution_count": 148,
     "metadata": {},
     "output_type": "execute_result"
    }
   ],
   "source": [
    "# Extreme profiles (reference products)\n",
    "ref = pd.DataFrame([worst] + middle + [best], index=[f\"b{i+1}\" for i in range(6)])\n",
    "ref"
   ]
  },
  {
   "cell_type": "code",
   "execution_count": null,
   "id": "19558d52",
   "metadata": {},
   "outputs": [],
   "source": [
    "# Indice de concordance partiel\n",
    "def c_p(j, H, i):\n",
    "    if j < 4: # fonction à minimiser\n",
    "        return int(ref.iloc[i, j] >= H[j])\n",
    "    else: # fonction à maximiser\n",
    "        return int(ref.iloc[i, j] <= H[j])"
   ]
  },
  {
   "cell_type": "code",
   "execution_count": null,
   "id": "4b6d306a",
   "metadata": {},
   "outputs": [],
   "source": [
    "def C_G(H, i, k):\n",
    "    C = 0\n",
    "    for j in range(len(H)):\n",
    "        C += k[j] * c_p(j, H, i)\n",
    "    C /= sum(k)\n",
    "    return C"
   ]
  },
  {
   "cell_type": "code",
   "execution_count": null,
   "id": "e5bfa7cb",
   "metadata": {},
   "outputs": [],
   "source": [
    "def H_surclasse_bi(H, i, k, s): # s pour seuil\n",
    "    return C_G(H, i, k) >= s"
   ]
  },
  {
   "cell_type": "code",
   "execution_count": null,
   "id": "61b7b93f",
   "metadata": {},
   "outputs": [],
   "source": [
    "nutri_scores = [\"E\", \"D\", \"C\", \"B\", \"A\"]"
   ]
  },
  {
   "cell_type": "code",
   "execution_count": null,
   "id": "d909d550",
   "metadata": {},
   "outputs": [],
   "source": [
    "def PessimisticMajoritySorting(H, k, s):\n",
    "    for i in range(len(k)-3, 0, -1):\n",
    "        if H_surclasse_bi(H, i, k, s):\n",
    "            return nutri_scores[i]\n",
    "    return \"E\""
   ]
  },
  {
   "cell_type": "code",
   "execution_count": null,
   "id": "30910c19",
   "metadata": {},
   "outputs": [],
   "source": [
    "def OptimisticMajoritySorting(H, k, s):\n",
    "    for i in range(1, 5):\n",
    "        if not H_surclasse_bi(H, i, k, s):\n",
    "            return nutri_scores[i-1]\n",
    "    return \"A\""
   ]
  },
  {
   "cell_type": "code",
   "execution_count": null,
   "id": "641a9b0f",
   "metadata": {},
   "outputs": [],
   "source": [
    "nutri = ns[\"nutriscore_grade\"].str.upper()"
   ]
  },
  {
   "cell_type": "code",
   "execution_count": null,
   "id": "6fdb53df",
   "metadata": {},
   "outputs": [],
   "source": [
    "k = [1, 10, 5, 1, 5, 3, 1]\n",
    "s = .6\n",
    "opt = ns[cols].apply(lambda H: OptimisticMajoritySorting(H, k, s), axis=1)\n",
    "pes = ns[cols].apply(lambda H: PessimisticMajoritySorting(H, k, s), axis=1)"
   ]
  },
  {
   "cell_type": "code",
   "execution_count": null,
   "id": "673f5ece",
   "metadata": {},
   "outputs": [],
   "source": [
    "(opt != nutri).sum()"
   ]
  },
  {
   "cell_type": "code",
   "execution_count": null,
   "id": "15e1eabd",
   "metadata": {},
   "outputs": [],
   "source": []
  },
  {
   "cell_type": "code",
   "execution_count": null,
   "id": "f488c5f1",
   "metadata": {},
   "outputs": [],
   "source": [
    "from sklearn.metrics import confusion_matrix"
   ]
  },
  {
   "cell_type": "code",
   "execution_count": null,
   "id": "b89d9984",
   "metadata": {},
   "outputs": [],
   "source": [
    "confusion_matrix(ns[\"nutriscore_grade\"].str.upper(), opt)"
   ]
  },
  {
   "cell_type": "code",
   "execution_count": null,
   "id": "fa6e400a",
   "metadata": {},
   "outputs": [],
   "source": []
  }
 ],
 "metadata": {
  "kernelspec": {
   "display_name": "Python 3 (ipykernel)",
   "language": "python",
   "name": "python3"
  },
  "language_info": {
   "codemirror_mode": {
    "name": "ipython",
    "version": 3
   },
   "file_extension": ".py",
   "mimetype": "text/x-python",
   "name": "python",
   "nbconvert_exporter": "python",
   "pygments_lexer": "ipython3",
   "version": "3.11.4"
  }
 },
 "nbformat": 4,
 "nbformat_minor": 5
}
